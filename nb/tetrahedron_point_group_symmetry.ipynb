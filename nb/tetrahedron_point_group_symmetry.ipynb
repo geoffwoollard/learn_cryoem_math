{
  "nbformat": 4,
  "nbformat_minor": 0,
  "metadata": {
    "colab": {
      "provenance": [],
      "authorship_tag": "ABX9TyNO5ubj2JZE4YBITXvuKKFb",
      "include_colab_link": true
    },
    "kernelspec": {
      "name": "python3",
      "display_name": "Python 3"
    },
    "language_info": {
      "name": "python"
    }
  },
  "cells": [
    {
      "cell_type": "markdown",
      "metadata": {
        "id": "view-in-github",
        "colab_type": "text"
      },
      "source": [
        "<a href=\"https://colab.research.google.com/github/geoffwoollard/learn_cryoem_math/blob/master/nb/tetrahedron_point_group_symmetry.ipynb\" target=\"_parent\"><img src=\"https://colab.research.google.com/assets/colab-badge.svg\" alt=\"Open In Colab\"/></a>"
      ]
    },
    {
      "cell_type": "markdown",
      "source": [
        "# Symmetry of tetrahedron\n",
        "* [picture showing symmetry axis goes through origin](https://www.researchgate.net/publication/235568250/figure/fig1/AS:668942863433732@1536499815948/Color-online-Two-possible-ways-to-embed-a-tetrahedron-into-a-cube-each-vertex-of-a.png)\n",
        "* [ways to inscribe a tetrahedon inside a cube](https://www.researchgate.net/publication/329270810/figure/fig2/AS:702715759964161@1544551901878/The-four-types-of-tetrahedra-in-a-cube-I-3-0-1-3.png)\n",
        "\n",
        "The code below shows that a tetrahedron inscribed in a cube can be rotated to an identical copy of itself.\n",
        "\n",
        "1. We first define the tetrahedron from four vertices of a cube: (001, 010,100,111).\n",
        "2. Next we centre these points by subtracting the vector $(1,1,1)/2$\n",
        "3. We then define the group actions (symetry operations) by a rotation, with the axis angle convention. There are three axes of symmetry defined by the vectors from diagonal corners (000 to 111), (011 to 100), (001 to 110). The angles are $0, 2\\pi/3, 4pi/3$\n",
        "4. We check for equalty between the rotated points via permutation by enumerating all the possible permutations (24; identity excluded)."
      ],
      "metadata": {
        "id": "KGWyP46b-7Vv"
      }
    },
    {
      "cell_type": "code",
      "execution_count": 9,
      "metadata": {
        "id": "lg1Qd9f12qZc"
      },
      "outputs": [],
      "source": [
        "import numpy as np\n",
        "import matplotlib.pyplot as plt\n",
        "import pandas as pd\n",
        "from scipy.spatial.transform import Rotation as R\n"
      ]
    },
    {
      "cell_type": "code",
      "source": [
        "tetrahedron_inscribed_in_cube = np.array([\n",
        "    [0.0,0,1],\n",
        "    [0,1,0],\n",
        "    [1,0,0],\n",
        "    [1,1,1]\n",
        "])\n",
        "\n",
        "# center\n",
        "tetrahedron_inscribed_in_cube -= np.ones(3)/2\n",
        "tetrahedron_inscribed_in_cube\n"
      ],
      "metadata": {
        "colab": {
          "base_uri": "https://localhost:8080/"
        },
        "id": "lgKsyXhj2wl6",
        "outputId": "388323e9-c303-4124-d0c4-6c0ebed23595"
      },
      "execution_count": 66,
      "outputs": [
        {
          "output_type": "execute_result",
          "data": {
            "text/plain": [
              "array([[-0.5, -0.5,  0.5],\n",
              "       [-0.5,  0.5, -0.5],\n",
              "       [ 0.5, -0.5, -0.5],\n",
              "       [ 0.5,  0.5,  0.5]])"
            ]
          },
          "metadata": {},
          "execution_count": 66
        }
      ]
    },
    {
      "cell_type": "code",
      "source": [
        "import itertools as it\n",
        "\n",
        "permutations = []\n",
        "for i,j,k,l in it.product(range(4), range(4), range(4), range(4)):\n",
        "  if i!=j and i!=k and i!=l and j!=k and j!=l and k!=l:\n",
        "    permutations.append([i,j,k,l])\n",
        "len(permutations)"
      ],
      "metadata": {
        "colab": {
          "base_uri": "https://localhost:8080/"
        },
        "id": "QDQYnD4U6UVP",
        "outputId": "02f81790-49bd-4342-b0a2-c8584d74d1db"
      },
      "execution_count": 90,
      "outputs": [
        {
          "output_type": "execute_result",
          "data": {
            "text/plain": [
              "24"
            ]
          },
          "metadata": {},
          "execution_count": 90
        }
      ]
    },
    {
      "cell_type": "code",
      "source": [
        "def equal_under_permutation(permutations, tetrahedron_inscribed_in_cube, rotated_points ):\n",
        "\n",
        "  equal = False\n",
        "  successful_permutation = None\n",
        "  for permutation in permutations:\n",
        "    if np.allclose(tetrahedron_inscribed_in_cube[permutation],rotated_points ):\n",
        "      equal = True\n",
        "      successful_permutation = permutation\n",
        "      break\n",
        "  return equal, successful_permutation\n"
      ],
      "metadata": {
        "id": "wslU0N915gk8"
      },
      "execution_count": 83,
      "outputs": []
    },
    {
      "cell_type": "code",
      "source": [
        "for axis in [np.array([1,1,1.0]), np.array([-1,1,1.0]), np.array([-1,-1,1.0])]:\n",
        "  axis /= np.sqrt(3)\n",
        "  angles = [2*np.pi/3,4*np.pi/3]\n",
        "  for angle in angles:\n",
        "    group_action = R.from_rotvec(angle*axis).as_matrix()\n",
        "    rotated_points = (group_action @ tetrahedron_inscribed_in_cube.T).T\n",
        "    equal, successful_permutation = equal_under_permutation(permutations, tetrahedron_inscribed_in_cube, rotated_points )\n",
        "    if equal:\n",
        "      print(f'the group action of axis {np.sqrt(3)*axis} angle {np.rad2deg(angle).round()} deg permutes the tetrahedron by {successful_permutation}')\n",
        "    else:\n",
        "      print(f'the group action of axis {np.sqrt(3)*axis} angle {np.rad2deg(angle).round()} does not permute the tetrahedron')"
      ],
      "metadata": {
        "colab": {
          "base_uri": "https://localhost:8080/"
        },
        "id": "_fVU1sf63Scs",
        "outputId": "f0bf0807-ab0b-43ac-dcba-0ab940d211fd"
      },
      "execution_count": 89,
      "outputs": [
        {
          "output_type": "stream",
          "name": "stdout",
          "text": [
            "the group action of axis [1. 1. 1.] angle 120.0 deg permutes the tetrahedron by [2, 0, 1, 3]\n",
            "the group action of axis [1. 1. 1.] angle 240.0 deg permutes the tetrahedron by [1, 2, 0, 3]\n",
            "the group action of axis [-1.  1.  1.] angle 120.0 deg permutes the tetrahedron by [3, 0, 2, 1]\n",
            "the group action of axis [-1.  1.  1.] angle 240.0 deg permutes the tetrahedron by [1, 3, 2, 0]\n",
            "the group action of axis [-1. -1.  1.] angle 120.0 deg permutes the tetrahedron by [0, 2, 3, 1]\n",
            "the group action of axis [-1. -1.  1.] angle 240.0 deg permutes the tetrahedron by [0, 3, 1, 2]\n"
          ]
        }
      ]
    }
  ]
}