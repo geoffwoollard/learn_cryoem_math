{
  "nbformat": 4,
  "nbformat_minor": 0,
  "metadata": {
    "colab": {
      "provenance": [],
      "authorship_tag": "ABX9TyMdyttK9QKKOWw1vMjuzQZW",
      "include_colab_link": true
    },
    "kernelspec": {
      "name": "python3",
      "display_name": "Python 3"
    },
    "language_info": {
      "name": "python"
    }
  },
  "cells": [
    {
      "cell_type": "markdown",
      "metadata": {
        "id": "view-in-github",
        "colab_type": "text"
      },
      "source": [
        "<a href=\"https://colab.research.google.com/github/geoffwoollard/learn_cryoem_math/blob/master/nb/normal_arctan.ipynb\" target=\"_parent\"><img src=\"https://colab.research.google.com/assets/colab-badge.svg\" alt=\"Open In Colab\"/></a>"
      ]
    },
    {
      "cell_type": "markdown",
      "source": [
        "Regarding the one of the noise models in cryojax, and it’s equivalent to pankhurst: gaussian white noise, after an arctan transformation to get angle, is uniform. so they can easily be made equivalent (sample gaussian white noise, scale power) == (deterministically evaluate power, sample uniform phases)\n",
        "\n",
        "[1] Parkhurst, J. M., Cavalleri, A., Dumoux, M., Basham, M., Clare, D., Siebert, C. A., … Essex, J. W. (2024). Computational models of amorphous ice for accurate simulation of cryo-EM images of biological samples. Ultramicroscopy, 256(October 2023), 113882. http://doi.org/10.1016/j.ultramic.2023.113882\n",
        "[2] https://github.com/mjo22/cryojax"
      ],
      "metadata": {
        "id": "NePFHsIVFwnG"
      }
    },
    {
      "cell_type": "code",
      "execution_count": 7,
      "metadata": {
        "id": "HFjXWy66DpUN"
      },
      "outputs": [],
      "source": [
        "import torch\n",
        "import torch.distributions as dist\n",
        "import numpy as np\n",
        "import pandas as pd"
      ]
    },
    {
      "cell_type": "code",
      "source": [
        "n_samples = 10000\n",
        "standard_normal = dist.Normal(0,1)\n",
        "white_noise = standard_normal.sample((n_samples,)) + 1j*standard_normal.sample((n_samples,))"
      ],
      "metadata": {
        "id": "bYjN2Z5nDuCl"
      },
      "execution_count": 14,
      "outputs": []
    },
    {
      "cell_type": "code",
      "source": [
        "atan = torch.arctan2(white_noise.imag,white_noise.real)"
      ],
      "metadata": {
        "id": "VZA_VoACEYPV"
      },
      "execution_count": 15,
      "outputs": []
    },
    {
      "cell_type": "code",
      "source": [
        "pd.Series(atan/torch.pi).plot.hist()"
      ],
      "metadata": {
        "colab": {
          "base_uri": "https://localhost:8080/",
          "height": 448
        },
        "id": "0xjmgqMTEoPH",
        "outputId": "9a0fd81c-3010-42bb-e980-36ef4f8574d6"
      },
      "execution_count": 17,
      "outputs": [
        {
          "output_type": "execute_result",
          "data": {
            "text/plain": [
              "<Axes: ylabel='Frequency'>"
            ]
          },
          "metadata": {},
          "execution_count": 17
        },
        {
          "output_type": "display_data",
          "data": {
            "text/plain": [
              "<Figure size 640x480 with 1 Axes>"
            ],
            "image/png": "[encoded data removed]"
          },
          "metadata": {}
        }
      ]
    },
    {
      "cell_type": "code",
      "source": [],
      "metadata": {
        "id": "m-meRPCGEvI8"
      },
      "execution_count": null,
      "outputs": []
    }
  ]
}